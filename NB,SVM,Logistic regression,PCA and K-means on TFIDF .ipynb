{
 "cells": [
  {
   "cell_type": "code",
   "execution_count": 1,
   "metadata": {},
   "outputs": [],
   "source": [
    "%matplotlib inline\n",
    "import glob\n",
    "from sklearn.naive_bayes import MultinomialNB\n",
    "import re\n",
    "import matplotlib\n",
    "import numpy as np\n",
    "import matplotlib.pyplot as plt\n",
    "import pandas as pd\n",
    "from sklearn.model_selection import StratifiedShuffleSplit\n",
    "from sklearn.model_selection import GridSearchCV\n",
    "from sklearn.pipeline import Pipeline\n",
    "from sklearn.multiclass import OneVsRestClassifier\n",
    "from sklearn.feature_extraction.text import TfidfVectorizer\n",
    "from sklearn.svm import LinearSVC\n",
    "from sklearn.linear_model import LogisticRegression\n",
    "from nltk import sent_tokenize\n",
    "from nltk import pos_tag\n",
    "from nltk import map_tag\n",
    "from sklearn.metrics import classification_report\n",
    "from nltk import word_tokenize\n",
    "from nltk.corpus import stopwords\n",
    "from sklearn.feature_selection import chi2\n",
    "from sklearn.decomposition import PCA\n",
    "from sklearn.manifold import TSNE\n",
    "from sklearn.cluster import KMeans \n",
    "from sklearn.feature_selection import mutual_info_classif, SelectKBest\n",
    "stop_words = set(stopwords.words('english'))\n",
    "from matplotlib.lines import Line2D"
   ]
  },
  {
   "cell_type": "code",
   "execution_count": 2,
   "metadata": {},
   "outputs": [
    {
     "name": "stdout",
     "output_type": "stream",
     "text": [
      "<class 'pandas.core.frame.DataFrame'>\n",
      "RangeIndex: 10085 entries, 0 to 10084\n",
      "Data columns (total 11 columns):\n",
      "id                  10085 non-null object\n",
      "title               10085 non-null object\n",
      "title_small         10085 non-null object\n",
      "year                10085 non-null int64\n",
      "date                9673 non-null object\n",
      "unnamed             6636 non-null object\n",
      "conference          10085 non-null object\n",
      "conference_short    10085 non-null object\n",
      "reference1          15 non-null object\n",
      "reference2          10085 non-null object\n",
      "reference3          10085 non-null int64\n",
      "dtypes: int64(2), object(9)\n",
      "memory usage: 866.8+ KB\n"
     ]
    }
   ],
   "source": [
    "# just to see the non null objects.\n",
    "icse = pd.read_csv(\"icse_id.txt\", delimiter='\\t')\n",
    "icse.columns = ['id','title','title_small','year','date','unnamed','conference','conference_short','reference1','reference2','reference3']\n",
    "icse.info()"
   ]
  },
  {
   "cell_type": "code",
   "execution_count": 3,
   "metadata": {},
   "outputs": [
    {
     "name": "stdout",
     "output_type": "stream",
     "text": [
      "<class 'pandas.core.frame.DataFrame'>\n",
      "RangeIndex: 4195 entries, 0 to 4194\n",
      "Data columns (total 11 columns):\n",
      "id                  4195 non-null object\n",
      "title               4195 non-null object\n",
      "title_small         4195 non-null object\n",
      "year                4195 non-null int64\n",
      "date                3811 non-null object\n",
      "unnamed             2408 non-null object\n",
      "conference          4195 non-null object\n",
      "conference_short    4195 non-null object\n",
      "reference1          1420 non-null object\n",
      "reference2          4195 non-null object\n",
      "reference3          4195 non-null int64\n",
      "dtypes: int64(2), object(9)\n",
      "memory usage: 360.6+ KB\n"
     ]
    }
   ],
   "source": [
    "sigmod = pd.read_csv(\"sigmod_id.txt\", delimiter='\\t')\n",
    "sigmod.columns = ['id','title','title_small','year','date','unnamed','conference','conference_short','reference1','reference2','reference3']\n",
    "sigmod.info()"
   ]
  },
  {
   "cell_type": "code",
   "execution_count": 4,
   "metadata": {},
   "outputs": [
    {
     "name": "stdout",
     "output_type": "stream",
     "text": [
      "<class 'pandas.core.frame.DataFrame'>\n",
      "RangeIndex: 4323 entries, 0 to 4322\n",
      "Data columns (total 11 columns):\n",
      "id                  4323 non-null object\n",
      "title               4323 non-null object\n",
      "title_small         4323 non-null object\n",
      "year                4323 non-null int64\n",
      "date                3969 non-null object\n",
      "unnamed             1224 non-null object\n",
      "conference          4323 non-null object\n",
      "conference_short    4323 non-null object\n",
      "reference1          4007 non-null object\n",
      "reference2          4323 non-null object\n",
      "reference3          4323 non-null int64\n",
      "dtypes: int64(2), object(9)\n",
      "memory usage: 371.6+ KB\n"
     ]
    }
   ],
   "source": [
    "vldb = pd.read_csv(\"vldb_id.txt\", delimiter='\\t')\n",
    "vldb.columns = ['id','title','title_small','year','date','unnamed','conference','conference_short','reference1','reference2','reference3']\n",
    "vldb.info()"
   ]
  },
  {
   "cell_type": "code",
   "execution_count": 5,
   "metadata": {},
   "outputs": [
    {
     "name": "stdout",
     "output_type": "stream",
     "text": [
      "[['Co-Operative Method Development revisited']\n",
      " ['An integrated bug processing framework']\n",
      " ['Guest Editorial: Introduction to the Special Section']\n",
      " ...\n",
      " ['Versions and workspaces in Microsoft repository']\n",
      " ['Anatomy of a real E-commerce system']\n",
      " ['Efficient optimistic concurrency control using loosely synchronized clocks']]\n",
      "[['icse']\n",
      " ['icse']\n",
      " ['icse']\n",
      " ...\n",
      " ['sigmod']\n",
      " ['sigmod']\n",
      " ['sigmod']]\n"
     ]
    },
    {
     "name": "stderr",
     "output_type": "stream",
     "text": [
      "/home/jayanth/anaconda3/envs/uwindsor/lib/python3.6/site-packages/ipykernel_launcher.py:10: FutureWarning: Method .as_matrix will be removed in a future version. Use .values instead.\n",
      "  # Remove the CWD from sys.path while we load stuff.\n",
      "/home/jayanth/anaconda3/envs/uwindsor/lib/python3.6/site-packages/ipykernel_launcher.py:12: FutureWarning: Method .as_matrix will be removed in a future version. Use .values instead.\n",
      "  if sys.path[0] == '':\n"
     ]
    }
   ],
   "source": [
    "allFiles = [\"icse_id.txt\",\"vldb_id.txt\",\"sigmod_id.txt\"]\n",
    "frame = pd.DataFrame()\n",
    "list_ = []\n",
    "for file_ in allFiles:\n",
    "    df = pd.read_csv(file_,delimiter='\\t')\n",
    "    df.columns = ['id','title','title_small','year','date','unnamed','conference','conference_short','reference1','reference2','reference3']\n",
    "    list_.append(df)\n",
    "frame = pd.concat(list_)\n",
    "\n",
    "data_x = frame[['title']].as_matrix()\n",
    "print(data_x)\n",
    "data_y = frame[['conference_short']].as_matrix()\n",
    "print(data_y)"
   ]
  },
  {
   "cell_type": "code",
   "execution_count": 6,
   "metadata": {},
   "outputs": [
    {
     "name": "stdout",
     "output_type": "stream",
     "text": [
      "            id                                              title  \\\n",
      "0     766984B4          Co-Operative Method Development revisited   \n",
      "1     7F5DB806             An integrated bug processing framework   \n",
      "2     78F1E9FF  Guest Editorial: Introduction to the Special S...   \n",
      "3     7D6EB553  Optimizing symbolic model checking for statech...   \n",
      "4     7FBCB0CC    Supporting search for reusable software objects   \n",
      "5     790C5919  Identification of dynamic comprehension proces...   \n",
      "6     7FEC4901  Completeness and consistency in hierarchical s...   \n",
      "7     76B250FB  Guest editors' introduction: 1999 internationa...   \n",
      "8     777166C0  Effectiveness Evaluation of Command and Contro...   \n",
      "9     7B1A023C  Cloudlet-based cyber-foraging for mobile syste...   \n",
      "10    7B583E24         An operating system development: Windows 3   \n",
      "11    7811B21C  Representing Unique Stakeholder Perspectives i...   \n",
      "12    7E90C370  Specification patterns from research to indust...   \n",
      "13    8553A067  Automated Energy Optimization of HTTP Requests...   \n",
      "14    7635A59A  The improvement of GAC model for image segment...   \n",
      "15    7D1BC7D0            Generative techniques for product lines   \n",
      "16    7D8A0D37  Modular-Like Transformations and Style Checkin...   \n",
      "17    817DF2C7  The universal design solution for Ajax-based t...   \n",
      "18    79CD68C3                     Service-Oriented Message Queue   \n",
      "19    7E611FAE  Semi-automatically extracting FAQs to improve ...   \n",
      "20    80036B58  Calculating architectural reliability via mode...   \n",
      "21    7D8A0202  Summary for scrutinizing agile practices or sh...   \n",
      "22    7FFFB0C7  Reengineering analysis of object-oriented syst...   \n",
      "23    7EAE63BC  Enhancing program readability and comprehensib...   \n",
      "24    7B094121  A specification-based adaptive test case gener...   \n",
      "25    0C038917  Ontology for complex railway systems applicati...   \n",
      "26    7D9E60BF  Modular modelling of software product lines wi...   \n",
      "27    7945747F  Code Generation on Steroids: Enhancing COTS Co...   \n",
      "28    7A340F2C  The SCR method for formally specifying, verify...   \n",
      "29    7A42BE3A  Combining mastery learning with project-based ...   \n",
      "...        ...                                                ...   \n",
      "4165  7D60981C  Modelling concepts for reasoning about access ...   \n",
      "4166  812B0C05  FastMap: a fast algorithm for indexing, data-m...   \n",
      "4167  802BAF66      Temporal aggregation in active database rules   \n",
      "4168  7E95CD58                     Access support in object bases   \n",
      "4169  80A29FCA                     The EXODUS optimizer generator   \n",
      "4170  789EA59A  Issues and approaches to design of real-time d...   \n",
      "4171  7D343F87                          Fully persistent B+-trees   \n",
      "4172  7E4699FF  Integrating a database system and programming ...   \n",
      "4173  775EEA57  Conceptual document browsing and retrieval in ...   \n",
      "4174  7B6A312C  dbTrento: the data and information management ...   \n",
      "4175  7EB719E1  Xmas: an extensible main-memory storage system...   \n",
      "4176  77D7F1EB              The BUCKY object-relational benchmark   \n",
      "4177  76245B90  A critical look at the TAB benchmark for physi...   \n",
      "4178  7BC65163                        Interoperability using APPC   \n",
      "4179  8116C0DE  A generalized model for a relational temporal ...   \n",
      "4180  7DE5C7B3  Finding generalized projected clusters in high...   \n",
      "4181  80B05165  MultiMediaMiner: a system prototype for multim...   \n",
      "4182  78F40F03  Monitoring business processes through event co...   \n",
      "4183  7BFB6E6A  Partitioning a relational database horizontall...   \n",
      "4184  7D2D4202  Report on the First International Workshop on ...   \n",
      "4185  7BE99A9D  A robust, optimization-based approach for appr...   \n",
      "4186  760DE6D4    A graphical query language supporting recursion   \n",
      "4187  763158A9                 Bitmap index design and evaluation   \n",
      "4188  75C3453C  Efficient mid-query re-optimization of sub-opt...   \n",
      "4189  77F14105        The continuous distributed monitoring model   \n",
      "4190  7E296B6D  Handling very large databases with informix ex...   \n",
      "4191  7DB4B9E7  Towards an effective calculus for object query...   \n",
      "4192  777253E2    Versions and workspaces in Microsoft repository   \n",
      "4193  755361A0                Anatomy of a real E-commerce system   \n",
      "4194  7DC4738A  Efficient optimistic concurrency control using...   \n",
      "\n",
      "                                            title_small  year        date  \\\n",
      "0             co operative method development revisited  2005  2005/05/16   \n",
      "1                an integrated bug processing framework  2012  2012/06/02   \n",
      "2     guest editorial introduction to the special se...  1998  1998/09/01   \n",
      "3     optimizing symbolic model checking for statech...  2001     2001/02   \n",
      "4       supporting search for reusable software objects  1996     1996/06   \n",
      "5     identification of dynamic comprehension proces...  1996     1996/06   \n",
      "6     completeness and consistency in hierarchical s...  1996     1996/06   \n",
      "7     guest editors introduction 1999 international ...  2001     2001/02   \n",
      "8     effectiveness evaluation of command and contro...  2014  2014/03/27   \n",
      "9     cloudlet based cyber foraging for mobile syste...  2014  2014/05/31   \n",
      "10            an operating system development windows 3  1996  1996/05/01   \n",
      "11    representing unique stakeholder perspectives i...  2010     2010/05   \n",
      "12    specification patterns from research to indust...  2012  2012/06/02   \n",
      "13    automated energy optimization of http requests...  2016        2016   \n",
      "14    the improvement of gac model for image segment...  2013     2013/05   \n",
      "15              generative techniques for product lines  2001  2001/07/01   \n",
      "16    modular like transformations and style checkin...  2007  2007/05/20   \n",
      "17    the universal design solution for ajax based t...  2015     2015/09   \n",
      "18                       service oriented message queue  2014  2014/03/27   \n",
      "19    semi automatically extracting faqs to improve ...  2012  2012/06/02   \n",
      "20    calculating architectural reliability via mode...  2004  2004/05/23   \n",
      "21    summary for scrutinizing agile practices or sh...  2008  2008/05/10   \n",
      "22    reengineering analysis of object oriented syst...  2001  2001/07/01   \n",
      "23    enhancing program readability and comprehensib...  1988  1988/04/01   \n",
      "24    a specification based adaptive test case gener...  1996  1996/05/01   \n",
      "25    ontology for complex railway systems applicati...  2013        2013   \n",
      "26    modular modelling of software product lines wi...  2011  2011/11/14   \n",
      "27    code generation on steroids enhancing cots cod...  2007  2007/05/20   \n",
      "28    the scr method for formally specifying verifyi...  1997  1997/05/01   \n",
      "29    combining mastery learning with project based ...  2015  2015/05/16   \n",
      "...                                                 ...   ...         ...   \n",
      "4165  modelling concepts for reasoning about access ...  1980  1980/06/23   \n",
      "4166  fastmap a fast algorithm for indexing data min...  1995  1995/06/01   \n",
      "4167      temporal aggregation in active database rules  1997  1997/06/01   \n",
      "4168                     access support in object bases  1990  1990/05/01   \n",
      "4169                     the exodus optimizer generator  1987  1987/12/01   \n",
      "4170  issues and approaches to design of real time d...  1988  1988/03/01   \n",
      "4171                           fully persistent b trees  1991  1991/04/01   \n",
      "4172  integrating a database system and programming ...  1980  1980/06/23   \n",
      "4173  conceptual document browsing and retrieval in ...  1992  1992/06/02   \n",
      "4174  dbtrento the data and information management g...  2012  2012/10/05   \n",
      "4175  xmas an extensible main memory storage system ...  1998  1998/06/01   \n",
      "4176              the bucky object relational benchmark  1997  1997/06/01   \n",
      "4177  a critical look at the tab benchmark for physi...  2007  2007/12/01   \n",
      "4178                        interoperability using appc  1993  1993/06/01   \n",
      "4179  a generalized model for a relational temporal ...  1988  1988/06/01   \n",
      "4180  finding generalized projected clusters in high...  2000  2000/05/16   \n",
      "4181  multimediaminer a system prototype for multime...  1998  1998/06/01   \n",
      "4182  monitoring business processes through event co...  2001  2001/05/01   \n",
      "4183  partitioning a relational database horizontall...  1985  1985/05/01   \n",
      "4184  report on the first international workshop on ...  2007  2007/09/01   \n",
      "4185  a robust optimization based approach for appro...  2001  2001/05/01   \n",
      "4186    a graphical query language supporting recursion  1987  1987/12/01   \n",
      "4187                 bitmap index design and evaluation  1998  1998/06/01   \n",
      "4188  efficient mid query re optimization of sub opt...  1998  1998/06/01   \n",
      "4189        the continuous distributed monitoring model  2013  2013/05/01   \n",
      "4190  handling very large databases with informix ex...  2000  2000/05/16   \n",
      "4191  towards an effective calculus for object query...  1995  1995/06/01   \n",
      "4192    versions and workspaces in microsoft repository  1999  1999/06/01   \n",
      "4193                anatomy of a real e commerce system  2000  2000/05/16   \n",
      "4194  efficient optimistic concurrency control using...  1995  1995/06/01   \n",
      "\n",
      "                            unnamed  \\\n",
      "0                               NaN   \n",
      "1         10.1109/ICSE.2012.6227060   \n",
      "2                               NaN   \n",
      "3                 10.1109/32.908961   \n",
      "4                 10.1109/32.508314   \n",
      "5                 10.1109/32.508315   \n",
      "6                 10.1109/32.508311   \n",
      "7           10.1109/TSE.2001.908956   \n",
      "8                               NaN   \n",
      "9           10.1145/2591062.2591119   \n",
      "10                              NaN   \n",
      "11             10.1109/SERA.2010.16   \n",
      "12        10.1109/ICSE.2012.6227125   \n",
      "13                              NaN   \n",
      "14      10.1109/ICSESS.2013.6615480   \n",
      "15         10.1109/ICSE.2001.919165   \n",
      "16    10.1109/ICSECOMPANION.2007.55   \n",
      "17                              NaN   \n",
      "18                              NaN   \n",
      "19                              NaN   \n",
      "20        10.1109/ICSE.2004.1317426   \n",
      "21          10.1145/1370175.1370232   \n",
      "22         10.1109/ICSE.2001.919132   \n",
      "23          10.1109/ICSE.1988.93716   \n",
      "24         10.1109/ICSE.1996.493404   \n",
      "25                              NaN   \n",
      "26     10.1007/978-3-642-24690-6_22   \n",
      "27                              NaN   \n",
      "28         10.1109/ICSE.1997.610430   \n",
      "29                              NaN   \n",
      "...                             ...   \n",
      "4165                            NaN   \n",
      "4166          10.1145/223784.223812   \n",
      "4167                            NaN   \n",
      "4168                            NaN   \n",
      "4169            10.1145/38714.38734   \n",
      "4170            10.1145/44203.44205   \n",
      "4171          10.1145/119995.115861   \n",
      "4172          10.1145/800227.806890   \n",
      "4173          10.1145/130283.130285   \n",
      "4174        10.1145/2380776.2380784   \n",
      "4175          10.1145/276304.276387   \n",
      "4176          10.1145/253260.253283   \n",
      "4177                            NaN   \n",
      "4178                            NaN   \n",
      "4179            10.1145/50202.50233   \n",
      "4180          10.1145/342009.335383   \n",
      "4181                            NaN   \n",
      "4182          10.1145/375663.375759   \n",
      "4183          10.1145/318898.318906   \n",
      "4184        10.1145/1324185.1324197   \n",
      "4185          10.1145/375663.375694   \n",
      "4186            10.1145/38713.38749   \n",
      "4187          10.1145/276304.276336   \n",
      "4188          10.1145/276304.276315   \n",
      "4189        10.1145/2481528.2481530   \n",
      "4190                            NaN   \n",
      "4191          10.1145/223784.223789   \n",
      "4192                            NaN   \n",
      "4193          10.1145/335191.335469   \n",
      "4194          10.1145/568271.223787   \n",
      "\n",
      "                                            conference conference_short  \\\n",
      "0     international conference on software engineering             icse   \n",
      "1     international conference on software engineering             icse   \n",
      "2     international conference on software engineering             icse   \n",
      "3     international conference on software engineering             icse   \n",
      "4     international conference on software engineering             icse   \n",
      "5     international conference on software engineering             icse   \n",
      "6     international conference on software engineering             icse   \n",
      "7     international conference on software engineering             icse   \n",
      "8     international conference on software engineering             icse   \n",
      "9     international conference on software engineering             icse   \n",
      "10    international conference on software engineering             icse   \n",
      "11    international conference on software engineering             icse   \n",
      "12    international conference on software engineering             icse   \n",
      "13    international conference on software engineering             icse   \n",
      "14    international conference on software engineering             icse   \n",
      "15    international conference on software engineering             icse   \n",
      "16    international conference on software engineering             icse   \n",
      "17    international conference on software engineering             icse   \n",
      "18    international conference on software engineering             icse   \n",
      "19    international conference on software engineering             icse   \n",
      "20    international conference on software engineering             icse   \n",
      "21    international conference on software engineering             icse   \n",
      "22    international conference on software engineering             icse   \n",
      "23    international conference on software engineering             icse   \n",
      "24    international conference on software engineering             icse   \n",
      "25    international conference on software engineering             icse   \n",
      "26    international conference on software engineering             icse   \n",
      "27    international conference on software engineering             icse   \n",
      "28    international conference on software engineering             icse   \n",
      "29    international conference on software engineering             icse   \n",
      "...                                                ...              ...   \n",
      "4165    international conference on management of data           sigmod   \n",
      "4166    international conference on management of data           sigmod   \n",
      "4167    international conference on management of data           sigmod   \n",
      "4168    international conference on management of data           sigmod   \n",
      "4169    international conference on management of data           sigmod   \n",
      "4170    international conference on management of data           sigmod   \n",
      "4171    international conference on management of data           sigmod   \n",
      "4172    international conference on management of data           sigmod   \n",
      "4173    international conference on management of data           sigmod   \n",
      "4174    international conference on management of data           sigmod   \n",
      "4175    international conference on management of data           sigmod   \n",
      "4176    international conference on management of data           sigmod   \n",
      "4177    international conference on management of data           sigmod   \n",
      "4178    international conference on management of data           sigmod   \n",
      "4179    international conference on management of data           sigmod   \n",
      "4180    international conference on management of data           sigmod   \n",
      "4181    international conference on management of data           sigmod   \n",
      "4182    international conference on management of data           sigmod   \n",
      "4183    international conference on management of data           sigmod   \n",
      "4184    international conference on management of data           sigmod   \n",
      "4185    international conference on management of data           sigmod   \n",
      "4186    international conference on management of data           sigmod   \n",
      "4187    international conference on management of data           sigmod   \n",
      "4188    international conference on management of data           sigmod   \n",
      "4189    international conference on management of data           sigmod   \n",
      "4190    international conference on management of data           sigmod   \n",
      "4191    international conference on management of data           sigmod   \n",
      "4192    international conference on management of data           sigmod   \n",
      "4193    international conference on management of data           sigmod   \n",
      "4194    international conference on management of data           sigmod   \n",
      "\n",
      "     reference1 reference2  reference3  \n",
      "0      0B24320F   45FFFB88       19176  \n",
      "1      0A0407AE   45FFFB88       19555  \n",
      "2      007F6F5E   45FFFB88       19404  \n",
      "3      007F6F5E   45FFFB88       18725  \n",
      "4      007F6F5E   45FFFB88       17872  \n",
      "5      007F6F5E   45FFFB88       16979  \n",
      "6      007F6F5E   45FFFB88       16558  \n",
      "7      007F6F5E   45FFFB88       19555  \n",
      "8           NaN   45FFFB88       19555  \n",
      "9           NaN   45FFFB88       19272  \n",
      "10          NaN   45FFFB88       19555  \n",
      "11          NaN   45FFFB88       17417  \n",
      "12          NaN   45FFFB88       19087  \n",
      "13          NaN   45FFFB88       19555  \n",
      "14          NaN   45FFFB88       19555  \n",
      "15          NaN   45FFFB88       19192  \n",
      "16          NaN   45FFFB88       19337  \n",
      "17          NaN   45FFFB88       19555  \n",
      "18          NaN   45FFFB88       19555  \n",
      "19          NaN   45FFFB88       19048  \n",
      "20          NaN   45FFFB88       19119  \n",
      "21          NaN   45FFFB88       19555  \n",
      "22          NaN   45FFFB88       18967  \n",
      "23          NaN   45FFFB88       18665  \n",
      "24          NaN   45FFFB88       19245  \n",
      "25          NaN   45FFFB88       19555  \n",
      "26          NaN   45FFFB88       19314  \n",
      "27          NaN   45FFFB88       17569  \n",
      "28          NaN   45FFFB88       18375  \n",
      "29          NaN   45FFFB88       19476  \n",
      "...         ...        ...         ...  \n",
      "4165   02D4EDCF   460A7036       19444  \n",
      "4166   02D4EDCF   460A7036       15530  \n",
      "4167   02D4EDCF   460A7036       17357  \n",
      "4168   02D4EDCF   460A7036       16888  \n",
      "4169   02D4EDCF   460A7036       15590  \n",
      "4170   02D4EDCF   460A7036       17738  \n",
      "4171   02D4EDCF   460A7036       18013  \n",
      "4172   02D4EDCF   460A7036       19003  \n",
      "4173   02D4EDCF   460A7036       19200  \n",
      "4174   02D4EDCF   460A7036       18777  \n",
      "4175   02D4EDCF   460A7036       18882  \n",
      "4176   02D4EDCF   460A7036       17072  \n",
      "4177   02D4EDCF   460A7036       19243  \n",
      "4178   02D4EDCF   460A7036       19427  \n",
      "4179   02D4EDCF   460A7036       17756  \n",
      "4180   02D4EDCF   460A7036       16022  \n",
      "4181   02D4EDCF   460A7036       17561  \n",
      "4182   02D4EDCF   460A7036       17421  \n",
      "4183   02D4EDCF   460A7036       18080  \n",
      "4184   02D4EDCF   460A7036       17610  \n",
      "4185   02D4EDCF   460A7036       17648  \n",
      "4186   02D4EDCF   460A7036       16460  \n",
      "4187   02D4EDCF   460A7036       16309  \n",
      "4188   02D4EDCF   460A7036       16280  \n",
      "4189   02D4EDCF   460A7036       19300  \n",
      "4190   02D4EDCF   460A7036       17605  \n",
      "4191   02D4EDCF   460A7036       17257  \n",
      "4192   02D4EDCF   460A7036       18743  \n",
      "4193   02D4EDCF   460A7036       18623  \n",
      "4194   02D4EDCF   460A7036       17337  \n",
      "\n",
      "[18603 rows x 11 columns]\n"
     ]
    }
   ],
   "source": [
    "print((frame))"
   ]
  },
  {
   "cell_type": "code",
   "execution_count": 7,
   "metadata": {},
   "outputs": [],
   "source": [
    "tfidf__max_df: (0.25, 0.50, 0.75)\n",
    "tfidf__ngram_range: ((1, 1), (1, 2), (1, 3))"
   ]
  },
  {
   "cell_type": "code",
   "execution_count": 8,
   "metadata": {},
   "outputs": [
    {
     "name": "stdout",
     "output_type": "stream",
     "text": [
      "[['Co-Operative Method Development revisited']\n",
      " ['An integrated bug processing framework']\n",
      " ['Guest Editorial: Introduction to the Special Section']\n",
      " ...\n",
      " ['Versions and workspaces in Microsoft repository']\n",
      " ['Anatomy of a real E-commerce system']\n",
      " ['Efficient optimistic concurrency control using loosely synchronized clocks']]\n",
      "[['icse']\n",
      " ['icse']\n",
      " ['icse']\n",
      " ...\n",
      " ['sigmod']\n",
      " ['sigmod']\n",
      " ['sigmod']]\n"
     ]
    },
    {
     "name": "stderr",
     "output_type": "stream",
     "text": [
      "/home/jayanth/anaconda3/envs/uwindsor/lib/python3.6/site-packages/ipykernel_launcher.py:1: FutureWarning: Method .as_matrix will be removed in a future version. Use .values instead.\n",
      "  \"\"\"Entry point for launching an IPython kernel.\n",
      "/home/jayanth/anaconda3/envs/uwindsor/lib/python3.6/site-packages/ipykernel_launcher.py:3: FutureWarning: Method .as_matrix will be removed in a future version. Use .values instead.\n",
      "  This is separate from the ipykernel package so we can avoid doing imports until\n"
     ]
    }
   ],
   "source": [
    "data_x = frame[['title']].as_matrix()\n",
    "print(data_x)\n",
    "data_y = frame[['conference_short']].as_matrix()\n",
    "print(data_y)"
   ]
  },
  {
   "cell_type": "code",
   "execution_count": 9,
   "metadata": {},
   "outputs": [],
   "source": [
    "# split the data\n",
    "stratified_split = StratifiedShuffleSplit(n_splits=2, test_size=0.33)\n",
    "for train_index, test_index in stratified_split.split(data_x, data_y):\n",
    "    x_train, x_test = data_x[train_index], data_x[test_index]\n",
    "    y_train, y_test = data_y[train_index], data_y[test_index]\n",
    "train_x = [x[0].strip() for x in x_train.tolist()]\n",
    "test_x = [x[0].strip() for x in x_test.tolist()]"
   ]
  },
  {
   "cell_type": "markdown",
   "metadata": {},
   "source": [
    "Naive bayes"
   ]
  },
  {
   "cell_type": "code",
   "execution_count": 10,
   "metadata": {},
   "outputs": [],
   "source": [
    "pipeline_NB = Pipeline([\n",
    "    ('tfidf', TfidfVectorizer(stop_words=stop_words)),\n",
    "    ('clf', OneVsRestClassifier(MultinomialNB(\n",
    "        fit_prior=True, class_prior=None))),\n",
    "])\n",
    "parameters_NB = {\n",
    "    'tfidf__max_df': (0.25, 0.5, 0.75),\n",
    "    'tfidf__ngram_range': [(1, 1), (1, 2), (1, 3)],\n",
    "    'clf__estimator__alpha': (1e-2, 1e-3)\n",
    "}"
   ]
  },
  {
   "cell_type": "markdown",
   "metadata": {},
   "source": [
    "SVM"
   ]
  },
  {
   "cell_type": "code",
   "execution_count": 11,
   "metadata": {},
   "outputs": [],
   "source": [
    "pipeline_SVM = Pipeline(\n",
    "    [\n",
    "    ('tfidf', TfidfVectorizer(stop_words=stop_words)),\n",
    "    ('clf', OneVsRestClassifier(LinearSVC()))])\n",
    "parameters_SVM = {\n",
    "    'tfidf__max_df': (0.25, 0.5, 0.75),\n",
    "    'tfidf__ngram_range': [(1, 1), (1, 2), (1, 3)],\n",
    "    \"clf__estimator__C\": [0.01, 0.1, 1],\n",
    "    \"clf__estimator__class_weight\": ['balanced', None],\n",
    "}"
   ]
  },
  {
   "cell_type": "markdown",
   "metadata": {},
   "source": [
    "logistic regression"
   ]
  },
  {
   "cell_type": "code",
   "execution_count": 12,
   "metadata": {},
   "outputs": [],
   "source": [
    "pipeline_logistic = Pipeline([\n",
    "    ('tfidf', TfidfVectorizer(stop_words=stop_words)),\n",
    "    ('clf', OneVsRestClassifier(LogisticRegression(solver='sag')))])\n",
    "parameters_logistic = {\n",
    "    'tfidf__max_df': (0.25, 0.5, 0.75),\n",
    "    'tfidf__ngram_range': [(1, 1), (1, 2), (1, 3)],\n",
    "    \"clf__estimator__C\": [0.01, 0.1, 1],\n",
    "    \"clf__estimator__class_weight\": ['balanced', None],\n",
    "}"
   ]
  },
  {
   "cell_type": "code",
   "execution_count": 13,
   "metadata": {},
   "outputs": [
    {
     "name": "stdout",
     "output_type": "stream",
     "text": [
      "Fitting 2 folds for each of 54 candidates, totalling 108 fits\n"
     ]
    },
    {
     "name": "stderr",
     "output_type": "stream",
     "text": [
      "[Parallel(n_jobs=2)]: Using backend LokyBackend with 2 concurrent workers.\n",
      "[Parallel(n_jobs=2)]: Done  28 tasks      | elapsed:    9.3s\n",
      "[Parallel(n_jobs=2)]: Done 108 out of 108 | elapsed:   36.7s finished\n"
     ]
    },
    {
     "name": "stdout",
     "output_type": "stream",
     "text": [
      "Best parameters set fot SVM are:\n",
      "[('tfidf', TfidfVectorizer(analyzer='word', binary=False, decode_error='strict',\n",
      "        dtype=<class 'numpy.float64'>, encoding='utf-8', input='content',\n",
      "        lowercase=True, max_df=0.25, max_features=None, min_df=1,\n",
      "        ngram_range=(1, 3), norm='l2', preprocessor=None, smooth_idf=True,\n",
      "        stop_words={'under', \"couldn't\", \"hadn't\", 'being', 'was', 'a', 'just', 'are', 'himself', 'o', \"didn't\", 'is', 'more', 'than', 'themselves', 'at', 'before', 'won', 'do', 'did', \"won't\", 'nor', 'there', 'off', 'here', 'isn', 'other', 'who', 'out', 'about', \"don't\", 'against', 'further', 'mightn', 'th...which', 'have', 'but', 'these', 'all', 'most', 'not', 'does', 'weren', 'needn', 'ain', 'had', 'her'},\n",
      "        strip_accents=None, sublinear_tf=False,\n",
      "        token_pattern='(?u)\\\\b\\\\w\\\\w+\\\\b', tokenizer=None, use_idf=True,\n",
      "        vocabulary=None)), ('clf', OneVsRestClassifier(estimator=LinearSVC(C=1, class_weight='balanced', dual=True, fit_intercept=True,\n",
      "     intercept_scaling=1, loss='squared_hinge', max_iter=1000,\n",
      "     multi_class='ovr', penalty='l2', random_state=None, tol=0.0001,\n",
      "     verbose=0),\n",
      "          n_jobs=None))]\n",
      "Applying best classifier on test data:\n",
      "              precision    recall  f1-score   support\n",
      "\n",
      "        icse       0.92      0.94      0.93      3328\n",
      "      sigmod       0.54      0.50      0.52      1384\n",
      "        vldb       0.55      0.57      0.56      1427\n",
      "\n",
      "   micro avg       0.75      0.75      0.75      6139\n",
      "   macro avg       0.67      0.67      0.67      6139\n",
      "weighted avg       0.75      0.75      0.75      6139\n",
      "\n"
     ]
    }
   ],
   "source": [
    "import pprint\n",
    "grid_search_tune = GridSearchCV(\n",
    "    pipeline_SVM, parameters_SVM, cv=2, n_jobs=2, verbose=3)\n",
    "grid_search_tune.fit(train_x, y_train)\n",
    "\n",
    "\n",
    "print(\"Best parameters set fot SVM are:\")\n",
    "print(grid_search_tune.best_estimator_.steps)\n",
    "\n",
    "# measuring performance on test set\n",
    "print(\"Applying best classifier on test data:\")\n",
    "best_clf = grid_search_tune.best_estimator_\n",
    "predictions = best_clf.predict(test_x)\n",
    "\n",
    "print(classification_report(y_test, predictions))"
   ]
  },
  {
   "cell_type": "code",
   "execution_count": 14,
   "metadata": {},
   "outputs": [
    {
     "name": "stdout",
     "output_type": "stream",
     "text": [
      "Fitting 2 folds for each of 18 candidates, totalling 36 fits\n"
     ]
    },
    {
     "name": "stderr",
     "output_type": "stream",
     "text": [
      "[Parallel(n_jobs=2)]: Using backend LokyBackend with 2 concurrent workers.\n",
      "[Parallel(n_jobs=2)]: Done  28 tasks      | elapsed:    7.9s\n",
      "[Parallel(n_jobs=2)]: Done  36 out of  36 | elapsed:   10.2s finished\n"
     ]
    },
    {
     "name": "stdout",
     "output_type": "stream",
     "text": [
      "Best parameters set:\n",
      "[('tfidf', TfidfVectorizer(analyzer='word', binary=False, decode_error='strict',\n",
      "        dtype=<class 'numpy.float64'>, encoding='utf-8', input='content',\n",
      "        lowercase=True, max_df=0.25, max_features=None, min_df=1,\n",
      "        ngram_range=(1, 3), norm='l2', preprocessor=None, smooth_idf=True,\n",
      "        stop_words={'under', \"couldn't\", \"hadn't\", 'being', 'was', 'a', 'just', 'are', 'himself', 'o', \"didn't\", 'is', 'more', 'than', 'themselves', 'at', 'before', 'won', 'do', 'did', \"won't\", 'nor', 'there', 'off', 'here', 'isn', 'other', 'who', 'out', 'about', \"don't\", 'against', 'further', 'mightn', 'th...which', 'have', 'but', 'these', 'all', 'most', 'not', 'does', 'weren', 'needn', 'ain', 'had', 'her'},\n",
      "        strip_accents=None, sublinear_tf=False,\n",
      "        token_pattern='(?u)\\\\b\\\\w\\\\w+\\\\b', tokenizer=None, use_idf=True,\n",
      "        vocabulary=None)), ('clf', OneVsRestClassifier(estimator=MultinomialNB(alpha=0.01, class_prior=None, fit_prior=True),\n",
      "          n_jobs=None))]\n",
      "Applying best classifier on test data:\n",
      "              precision    recall  f1-score   support\n",
      "\n",
      "        icse       0.89      0.95      0.92      3328\n",
      "      sigmod       0.54      0.47      0.50      1384\n",
      "        vldb       0.55      0.54      0.55      1427\n",
      "\n",
      "   micro avg       0.74      0.74      0.74      6139\n",
      "   macro avg       0.66      0.65      0.65      6139\n",
      "weighted avg       0.73      0.74      0.74      6139\n",
      "\n"
     ]
    }
   ],
   "source": [
    "grid_search_tune = GridSearchCV(\n",
    "    pipeline_NB\n",
    "    , parameters_NB, cv=2, n_jobs=2, verbose=3)\n",
    "grid_search_tune.fit(train_x, y_train)\n",
    "\n",
    "\n",
    "print(\"Best parameters set:\")\n",
    "print(grid_search_tune.best_estimator_.steps)\n",
    "\n",
    "# measuring performance on test set\n",
    "print(\"Applying best classifier on test data:\")\n",
    "best_clf = grid_search_tune.best_estimator_\n",
    "predictions = best_clf.predict(test_x)\n",
    "\n",
    "print(classification_report(y_test, predictions))"
   ]
  },
  {
   "cell_type": "code",
   "execution_count": 15,
   "metadata": {},
   "outputs": [
    {
     "name": "stdout",
     "output_type": "stream",
     "text": [
      "Fitting 2 folds for each of 54 candidates, totalling 108 fits\n"
     ]
    },
    {
     "name": "stderr",
     "output_type": "stream",
     "text": [
      "[Parallel(n_jobs=2)]: Using backend LokyBackend with 2 concurrent workers.\n",
      "[Parallel(n_jobs=2)]: Done  28 tasks      | elapsed:   12.9s\n",
      "[Parallel(n_jobs=2)]: Done 108 out of 108 | elapsed:   57.8s finished\n"
     ]
    },
    {
     "name": "stdout",
     "output_type": "stream",
     "text": [
      "Best parameters set:\n",
      "[('tfidf', TfidfVectorizer(analyzer='word', binary=False, decode_error='strict',\n",
      "        dtype=<class 'numpy.float64'>, encoding='utf-8', input='content',\n",
      "        lowercase=True, max_df=0.5, max_features=None, min_df=1,\n",
      "        ngram_range=(1, 2), norm='l2', preprocessor=None, smooth_idf=True,\n",
      "        stop_words={'under', \"couldn't\", \"hadn't\", 'being', 'was', 'a', 'just', 'are', 'himself', 'o', \"didn't\", 'is', 'more', 'than', 'themselves', 'at', 'before', 'won', 'do', 'did', \"won't\", 'nor', 'there', 'off', 'here', 'isn', 'other', 'who', 'out', 'about', \"don't\", 'against', 'further', 'mightn', 'th...which', 'have', 'but', 'these', 'all', 'most', 'not', 'does', 'weren', 'needn', 'ain', 'had', 'her'},\n",
      "        strip_accents=None, sublinear_tf=False,\n",
      "        token_pattern='(?u)\\\\b\\\\w\\\\w+\\\\b', tokenizer=None, use_idf=True,\n",
      "        vocabulary=None)), ('clf', OneVsRestClassifier(estimator=LogisticRegression(C=1, class_weight='balanced', dual=False,\n",
      "          fit_intercept=True, intercept_scaling=1, max_iter=100,\n",
      "          multi_class='warn', n_jobs=None, penalty='l2', random_state=None,\n",
      "          solver='sag', tol=0.0001, verbose=0, warm_start=False),\n",
      "          n_jobs=None))]\n",
      "Applying best classifier on test data:\n",
      "              precision    recall  f1-score   support\n",
      "\n",
      "        icse       0.92      0.94      0.93      3328\n",
      "      sigmod       0.53      0.48      0.50      1384\n",
      "        vldb       0.55      0.57      0.56      1427\n",
      "\n",
      "   micro avg       0.75      0.75      0.75      6139\n",
      "   macro avg       0.66      0.66      0.66      6139\n",
      "weighted avg       0.74      0.75      0.75      6139\n",
      "\n"
     ]
    }
   ],
   "source": [
    "grid_search_tune = GridSearchCV(\n",
    "    pipeline_logistic\n",
    "    , parameters_logistic, cv=2, n_jobs=2, verbose=3)\n",
    "grid_search_tune.fit(train_x, y_train)\n",
    "\n",
    "\n",
    "print(\"Best parameters set:\")\n",
    "print(grid_search_tune.best_estimator_.steps)\n",
    "\n",
    "# measuring performance on test set\n",
    "print(\"Applying best classifier on test data:\")\n",
    "best_clf = grid_search_tune.best_estimator_\n",
    "predictions = best_clf.predict(test_x)\n",
    "\n",
    "print(classification_report(y_test, predictions))"
   ]
  },
  {
   "cell_type": "markdown",
   "metadata": {},
   "source": [
    "K means clustering"
   ]
  },
  {
   "cell_type": "code",
   "execution_count": 17,
   "metadata": {},
   "outputs": [
    {
     "name": "stdout",
     "output_type": "stream",
     "text": [
      "[[-0.02362684 -0.03824172]\n",
      " [-0.02760664 -0.0311977 ]\n",
      " [-0.1057955   0.21157392]\n",
      " ...\n",
      " [-0.02420453 -0.05078595]\n",
      " [-0.00773033 -0.0279288 ]\n",
      " [-0.02029128 -0.02377505]]\n"
     ]
    },
    {
     "data": {
      "image/png": "[encoded data removed]",
      "text/plain": [
       "<Figure size 432x288 with 1 Axes>"
      ]
     },
     "metadata": {
      "needs_background": "light"
     },
     "output_type": "display_data"
    }
   ],
   "source": [
    "num_clusters = 3\n",
    "num_seeds = 10\n",
    "max_iterations = 300\n",
    "labels_color_map = {\n",
    "    0: '#20b2aa', 1: '#ff7373', 2: '#ffe4e1'}\n",
    "pca_num_components = 2\n",
    "\n",
    "# texts_list = some array of strings for which TF-IDF is being computed\n",
    "# calculate tf-idf of texts\n",
    "# create k-means model with custom config\n",
    "x_train_corrected = [\" \".join(x) for x in x_train]\n",
    "\n",
    "vectorizer=TfidfVectorizer(min_df=1,max_df=0.5,stop_words='english', decode_error='ignore')\n",
    "tf_idf_matrix = vectorizer.fit_transform(x_train_corrected)\n",
    "clustering_model = KMeans(\n",
    "    n_clusters=num_clusters,\n",
    "    max_iter=max_iterations,\n",
    "    precompute_distances=\"auto\",\n",
    "    n_jobs=-1\n",
    ")\n",
    "X = tf_idf_matrix.todense()\n",
    "labels = clustering_model.fit_predict(tf_idf_matrix)\n",
    "\n",
    "# ----------------------------------------------------------------------------------------------------------------------\n",
    "\n",
    "reduced_data = PCA(n_components=pca_num_components).fit_transform(X)\n",
    "print(reduced_data)\n",
    "\n",
    "fig, ax = plt.subplots()\n",
    "for index, instance in enumerate(reduced_data):\n",
    "    # print instance, index, labels[index]\n",
    "    pca_comp_1, pca_comp_2 = reduced_data[index]\n",
    "    color = labels_color_map[labels[index]]\n",
    "    ax.scatter(pca_comp_1, pca_comp_2, c=color)\n",
    "# verify labels\n",
    "legend_elements = [Line2D([0], [0], marker='o', color='w', label='ICSE',\n",
    "                          markerfacecolor=labels_color_map[0], markersize=10),\n",
    "                        Line2D([0], [0], marker='o', color='w', label='VLDB',\n",
    "                          markerfacecolor=labels_color_map[1], markersize=10),\n",
    "                        Line2D([0], [0], marker='o', color='w', label='SIGMOD',\n",
    "                          markerfacecolor=labels_color_map[2], markersize=10)]\n",
    "plt.legend(handles=legend_elements, loc='upper right')\n",
    "plt.show()"
   ]
  },
  {
   "cell_type": "code",
   "execution_count": 18,
   "metadata": {},
   "outputs": [
    {
     "name": "stdout",
     "output_type": "stream",
     "text": [
      "(12464, 2)\n",
      "(12464, 1)\n"
     ]
    }
   ],
   "source": [
    "print(reduced_data.shape)\n",
    "print(y_train.shape)"
   ]
  },
  {
   "cell_type": "code",
   "execution_count": 19,
   "metadata": {},
   "outputs": [
    {
     "name": "stdout",
     "output_type": "stream",
     "text": [
      "df_centers:\n",
      "          x         y\n",
      "0 -0.025954 -0.032371\n",
      "1  0.191622  0.018786\n",
      "2 -0.073395  0.168805\n"
     ]
    }
   ],
   "source": [
    "km_model = KMeans(n_clusters=3, max_iter=10, n_init=2, random_state=0)\n",
    "\n",
    "# K-means (transform dimensions from number of features in input matrix to n_clusters)\n",
    "km_model.fit(reduced_data)\n",
    "df_centers = pd.DataFrame(km_model.cluster_centers_, columns=['x', 'y'])\n",
    "\n",
    "print(\"df_centers:\")\n",
    "print(df_centers)"
   ]
  },
  {
   "cell_type": "code",
   "execution_count": 25,
   "metadata": {},
   "outputs": [
    {
     "name": "stdout",
     "output_type": "stream",
     "text": [
      "12464\n"
     ]
    }
   ],
   "source": [
    "print(len(y_train))"
   ]
  },
  {
   "cell_type": "code",
   "execution_count": 39,
   "metadata": {},
   "outputs": [
    {
     "name": "stdout",
     "output_type": "stream",
     "text": [
      "12464\n",
      "12464\n",
      "{0, 1, 2}\n"
     ]
    },
    {
     "ename": "NameError",
     "evalue": "name 'y_t' is not defined",
     "output_type": "error",
     "traceback": [
      "\u001b[0;31m---------------------------------------------------------------------------\u001b[0m",
      "\u001b[0;31mNameError\u001b[0m                                 Traceback (most recent call last)",
      "\u001b[0;32m<ipython-input-39-438e54841f47>\u001b[0m in \u001b[0;36m<module>\u001b[0;34m()\u001b[0m\n\u001b[1;32m      3\u001b[0m \u001b[0mprint\u001b[0m\u001b[0;34m(\u001b[0m\u001b[0mset\u001b[0m\u001b[0;34m(\u001b[0m\u001b[0mz\u001b[0m\u001b[0;34m)\u001b[0m\u001b[0;34m)\u001b[0m\u001b[0;34m\u001b[0m\u001b[0m\n\u001b[1;32m      4\u001b[0m \u001b[0;34m\u001b[0m\u001b[0m\n\u001b[0;32m----> 5\u001b[0;31m \u001b[0mprint\u001b[0m\u001b[0;34m(\u001b[0m\u001b[0mset\u001b[0m\u001b[0;34m(\u001b[0m\u001b[0my_t\u001b[0m\u001b[0;34m)\u001b[0m\u001b[0;34m)\u001b[0m\u001b[0;34m\u001b[0m\u001b[0m\n\u001b[0m\u001b[1;32m      6\u001b[0m \u001b[0mprint\u001b[0m\u001b[0;34m(\u001b[0m\u001b[0mreduced_data\u001b[0m\u001b[0;34m)\u001b[0m\u001b[0;34m\u001b[0m\u001b[0m\n",
      "\u001b[0;31mNameError\u001b[0m: name 'y_t' is not defined"
     ]
    }
   ],
   "source": [
    "print(len(reduced_data[:,0]))\n",
    "print(len(z))\n",
    "print(set(z))\n",
    "\n",
    "print(set(y_t))\n",
    "print(reduced_data)"
   ]
  },
  {
   "cell_type": "code",
   "execution_count": 40,
   "metadata": {},
   "outputs": [],
   "source": [
    "kmeans = KMeans(n_clusters=3, max_iter=10, n_init=2, random_state=0)  \n",
    "kmeans.fit(reduced_data) \n",
    "\n",
    "#print(kmeans.cluster_centers_)\n",
    "#print(kmeans.labels_)\n",
    "#print(y)\n",
    "z=kmeans.labels_ \n",
    "#g=sns.lmplot(x=\"x1\",y=\"x2\",data=df,fit_reg=False,hue=\"Class\")\n",
    "#sns.lmplot(x=\"x1\",y=\"x2\",data=df,fit_reg=False,hue=z,markers=['o','v'])\n",
    "#plt.scatter(X[:,0],X[:,1],c=y, cmap='rainbow')\n",
    "#plt.scatter(X[:,0],X[:,1],marker='v')\n",
    "for a,b,c,d in zip(reduced_data[:,0],reduced_data[:,1],z,y_train):\n",
    "    if c==0:\n",
    "        if d==0:\n",
    "            plt.scatter(a,b,c='y',marker='+')\n",
    "        elif d==1:\n",
    "            plt.scatter(a,b,c='g',marker='+')  \n",
    "        elif d==2:\n",
    "            plt.scatter(a,b,c='r',marker='+') \n",
    "    elif c==1:\n",
    "        if d==0:\n",
    "            plt.scatter(a,b,c='y',marker='o')\n",
    "        elif d==1:\n",
    "            plt.scatter(a,b,c='g',marker='o')  \n",
    "        elif d==2:\n",
    "            plt.scatter(a,b,c='r',marker='o') \n",
    "    elif c==2:\n",
    "        if d==0:\n",
    "            plt.scatter(a,b,c='y',marker='v')\n",
    "        elif d==1:\n",
    "            plt.scatter(a,b,c='g',marker='v')  \n",
    "        elif d==2:\n",
    "            plt.scatter(a,b,c='r',marker='v')     \n",
    "plt.show()"
   ]
  },
  {
   "cell_type": "markdown",
   "metadata": {},
   "source": [
    "chi squared for ICSE and VLDB"
   ]
  },
  {
   "cell_type": "code",
   "execution_count": 21,
   "metadata": {},
   "outputs": [
    {
     "name": "stdout",
     "output_type": "stream",
     "text": [
      "[['Co-Operative Method Development revisited']\n",
      " ['An integrated bug processing framework']\n",
      " ['Guest Editorial: Introduction to the Special Section']\n",
      " ...\n",
      " ['ACM transactions on database systems: aim and scope']\n",
      " ['The entity-relationship model—toward a unified view of data']\n",
      " ['Data Integration Using Web Services']]\n",
      "[['icse']\n",
      " ['icse']\n",
      " ['icse']\n",
      " ...\n",
      " ['vldb']\n",
      " ['vldb']\n",
      " ['vldb']]\n"
     ]
    },
    {
     "name": "stderr",
     "output_type": "stream",
     "text": [
      "/home/jayanth/anaconda3/envs/uwindsor/lib/python3.6/site-packages/ipykernel_launcher.py:10: FutureWarning: Method .as_matrix will be removed in a future version. Use .values instead.\n",
      "  # Remove the CWD from sys.path while we load stuff.\n",
      "/home/jayanth/anaconda3/envs/uwindsor/lib/python3.6/site-packages/ipykernel_launcher.py:12: FutureWarning: Method .as_matrix will be removed in a future version. Use .values instead.\n",
      "  if sys.path[0] == '':\n"
     ]
    }
   ],
   "source": [
    "allFiles = [\"icse_id.txt\",\"vldb_id.txt\"]\n",
    "frame = pd.DataFrame()\n",
    "list_ = []\n",
    "for file_ in allFiles:\n",
    "    df = pd.read_csv(file_,delimiter='\\t')\n",
    "    df.columns = ['id','title','title_small','year','date','unnamed','conference','conference_short','reference1','reference2','reference3']\n",
    "    list_.append(df)\n",
    "frame = pd.concat(list_)\n",
    "\n",
    "data_x = frame[['title']].as_matrix()\n",
    "print(data_x)\n",
    "data_y = frame[['conference_short']].as_matrix()\n",
    "print(data_y)"
   ]
  },
  {
   "cell_type": "code",
   "execution_count": 22,
   "metadata": {},
   "outputs": [
    {
     "data": {
      "text/plain": [
       "Text(0.5,0,'$\\\\chi^2$ for ICSE and VLDB')"
      ]
     },
     "execution_count": 22,
     "metadata": {},
     "output_type": "execute_result"
    },
    {
     "data": {
      "image/png": "[encoded data removed]",
      "text/plain": [
       "<Figure size 1080x720 with 1 Axes>"
      ]
     },
     "metadata": {
      "needs_background": "light"
     },
     "output_type": "display_data"
    }
   ],
   "source": [
    "x_train_corrected = [\" \".join(x) for x in data_x]\n",
    "vectorizer=TfidfVectorizer(min_df=1,max_df=0.5,stop_words='english', decode_error='ignore')\n",
    "tf_idf_matrix = vectorizer.fit_transform(x_train_corrected)\n",
    "chi2score = chi2(tf_idf_matrix, data_y)[0]\n",
    "\n",
    "plt.figure(figsize=(15,10))\n",
    "wscores = zip(vectorizer.get_feature_names(), chi2score)\n",
    "wchi2 = sorted(wscores, key=lambda x:x[1])\n",
    "topchi2 = list(zip(*wchi2[-20:]))\n",
    "x = range(len(topchi2[1]))\n",
    "labels = topchi2[0]\n",
    "plt.barh(x,topchi2[1], align='center', alpha=0.2)\n",
    "plt.plot(topchi2[1], x, '-o', markersize=5, alpha=0.8)\n",
    "plt.yticks(x, labels)\n",
    "plt.xlabel('$\\chi^2$ for ICSE and VLDB')"
   ]
  },
  {
   "cell_type": "code",
   "execution_count": 23,
   "metadata": {},
   "outputs": [
    {
     "name": "stderr",
     "output_type": "stream",
     "text": [
      "/home/jayanth/anaconda3/envs/uwindsor/lib/python3.6/site-packages/ipykernel_launcher.py:10: FutureWarning: Method .as_matrix will be removed in a future version. Use .values instead.\n",
      "  # Remove the CWD from sys.path while we load stuff.\n",
      "/home/jayanth/anaconda3/envs/uwindsor/lib/python3.6/site-packages/ipykernel_launcher.py:12: FutureWarning: Method .as_matrix will be removed in a future version. Use .values instead.\n",
      "  if sys.path[0] == '':\n"
     ]
    },
    {
     "name": "stdout",
     "output_type": "stream",
     "text": [
      "[['Co-Operative Method Development revisited']\n",
      " ['An integrated bug processing framework']\n",
      " ['Guest Editorial: Introduction to the Special Section']\n",
      " ...\n",
      " ['Versions and workspaces in Microsoft repository']\n",
      " ['Anatomy of a real E-commerce system']\n",
      " ['Efficient optimistic concurrency control using loosely synchronized clocks']]\n",
      "[['icse']\n",
      " ['icse']\n",
      " ['icse']\n",
      " ...\n",
      " ['sigmod']\n",
      " ['sigmod']\n",
      " ['sigmod']]\n"
     ]
    },
    {
     "data": {
      "text/plain": [
       "Text(0.5,0,'$\\\\chi^2$ for ICSE and SIGMOD')"
      ]
     },
     "execution_count": 23,
     "metadata": {},
     "output_type": "execute_result"
    },
    {
     "data": {
      "image/png": "[encoded data removed]",
      "text/plain": [
       "<Figure size 1080x720 with 1 Axes>"
      ]
     },
     "metadata": {
      "needs_background": "light"
     },
     "output_type": "display_data"
    }
   ],
   "source": [
    "allFiles = [\"icse_id.txt\",\"sigmod_id.txt\"]\n",
    "frame = pd.DataFrame()\n",
    "list_ = []\n",
    "for file_ in allFiles:\n",
    "    df = pd.read_csv(file_,delimiter='\\t')\n",
    "    df.columns = ['id','title','title_small','year','date','unnamed','conference','conference_short','reference1','reference2','reference3']\n",
    "    list_.append(df)\n",
    "frame = pd.concat(list_)\n",
    "\n",
    "data_x = frame[['title']].as_matrix()\n",
    "print(data_x)\n",
    "data_y = frame[['conference_short']].as_matrix()\n",
    "print(data_y)\n",
    "\n",
    "x_train_corrected = [\" \".join(x) for x in data_x]\n",
    "vectorizer=TfidfVectorizer(min_df=1,max_df=0.5,stop_words='english', decode_error='ignore')\n",
    "tf_idf_matrix = vectorizer.fit_transform(x_train_corrected)\n",
    "chi2score = chi2(tf_idf_matrix, data_y)[0]\n",
    "\n",
    "plt.figure(figsize=(15,10))\n",
    "wscores = zip(vectorizer.get_feature_names(), chi2score)\n",
    "wchi2 = sorted(wscores, key=lambda x:x[1])\n",
    "topchi2 = list(zip(*wchi2[-20:]))\n",
    "x = range(len(topchi2[1]))\n",
    "labels = topchi2[0]\n",
    "plt.barh(x,topchi2[1], align='center', alpha=0.2)\n",
    "plt.plot(topchi2[1], x, '-o', markersize=5, alpha=0.8)\n",
    "plt.yticks(x, labels)\n",
    "plt.xlabel('$\\chi^2$ for ICSE and SIGMOD')"
   ]
  },
  {
   "cell_type": "code",
   "execution_count": 24,
   "metadata": {},
   "outputs": [
    {
     "name": "stdout",
     "output_type": "stream",
     "text": [
      "[['Structural trend analysis for online social networks']\n",
      " ['SQL/AA: Executing SQL on an Asymmetric Architecture']\n",
      " ['SCOUT: prefetching for latent structure following queries']\n",
      " ...\n",
      " ['Versions and workspaces in Microsoft repository']\n",
      " ['Anatomy of a real E-commerce system']\n",
      " ['Efficient optimistic concurrency control using loosely synchronized clocks']]\n",
      "[['vldb']\n",
      " ['vldb']\n",
      " ['vldb']\n",
      " ...\n",
      " ['sigmod']\n",
      " ['sigmod']\n",
      " ['sigmod']]\n"
     ]
    },
    {
     "name": "stderr",
     "output_type": "stream",
     "text": [
      "/home/jayanth/anaconda3/envs/uwindsor/lib/python3.6/site-packages/ipykernel_launcher.py:10: FutureWarning: Method .as_matrix will be removed in a future version. Use .values instead.\n",
      "  # Remove the CWD from sys.path while we load stuff.\n",
      "/home/jayanth/anaconda3/envs/uwindsor/lib/python3.6/site-packages/ipykernel_launcher.py:12: FutureWarning: Method .as_matrix will be removed in a future version. Use .values instead.\n",
      "  if sys.path[0] == '':\n"
     ]
    },
    {
     "data": {
      "text/plain": [
       "Text(0.5,0,'$\\\\chi^2$ for VLDB and SIGMOD')"
      ]
     },
     "execution_count": 24,
     "metadata": {},
     "output_type": "execute_result"
    },
    {
     "data": {
      "image/png": "[encoded data removed]",
      "text/plain": [
       "<Figure size 1080x720 with 1 Axes>"
      ]
     },
     "metadata": {
      "needs_background": "light"
     },
     "output_type": "display_data"
    }
   ],
   "source": [
    "allFiles = [\"vldb_id.txt\",\"sigmod_id.txt\"]\n",
    "frame = pd.DataFrame()\n",
    "list_ = []\n",
    "for file_ in allFiles:\n",
    "    df = pd.read_csv(file_,delimiter='\\t')\n",
    "    df.columns = ['id','title','title_small','year','date','unnamed','conference','conference_short','reference1','reference2','reference3']\n",
    "    list_.append(df)\n",
    "frame = pd.concat(list_)\n",
    "\n",
    "data_x = frame[['title']].as_matrix()\n",
    "print(data_x)\n",
    "data_y = frame[['conference_short']].as_matrix()\n",
    "print(data_y)\n",
    "\n",
    "x_train_corrected = [\" \".join(x) for x in data_x]\n",
    "vectorizer=TfidfVectorizer(min_df=1,max_df=0.5,stop_words='english', decode_error='ignore')\n",
    "tf_idf_matrix = vectorizer.fit_transform(x_train_corrected)\n",
    "chi2score = chi2(tf_idf_matrix, data_y)[0]\n",
    "\n",
    "plt.figure(figsize=(15,10))\n",
    "wscores = zip(vectorizer.get_feature_names(), chi2score)\n",
    "wchi2 = sorted(wscores, key=lambda x:x[1])\n",
    "topchi2 = list(zip(*wchi2[-20:]))\n",
    "x = range(len(topchi2[1]))\n",
    "labels = topchi2[0]\n",
    "plt.barh(x,topchi2[1], align='center', alpha=0.2)\n",
    "plt.plot(topchi2[1], x, '-o', markersize=5, alpha=0.8)\n",
    "plt.yticks(x, labels)\n",
    "plt.xlabel('$\\chi^2$ for VLDB and SIGMOD')"
   ]
  }
 ],
 "metadata": {
  "kernelspec": {
   "display_name": "Python (uwindsor)",
   "language": "python",
   "name": "uwindsor"
  },
  "language_info": {
   "codemirror_mode": {
    "name": "ipython",
    "version": 3
   },
   "file_extension": ".py",
   "mimetype": "text/x-python",
   "name": "python",
   "nbconvert_exporter": "python",
   "pygments_lexer": "ipython3",
   "version": "3.6.6"
  }
 },
 "nbformat": 4,
 "nbformat_minor": 2
}
