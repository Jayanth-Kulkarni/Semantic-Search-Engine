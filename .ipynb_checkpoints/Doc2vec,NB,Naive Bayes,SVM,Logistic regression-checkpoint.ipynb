{
 "cells": [
  {
   "cell_type": "code",
   "execution_count": 49,
   "metadata": {},
   "outputs": [],
   "source": [
    "%matplotlib inline\n",
    "import glob\n",
    "import re\n",
    "import matplotlib\n",
    "import numpy as np\n",
    "import matplotlib.pyplot as plt\n",
    "import pandas as pd"
   ]
  },
  {
   "cell_type": "code",
   "execution_count": 37,
   "metadata": {},
   "outputs": [
    {
     "name": "stdout",
     "output_type": "stream",
     "text": [
      "<class 'pandas.core.frame.DataFrame'>\n",
      "RangeIndex: 10085 entries, 0 to 10084\n",
      "Data columns (total 11 columns):\n",
      "id                  10085 non-null object\n",
      "title               10085 non-null object\n",
      "title_small         10085 non-null object\n",
      "year                10085 non-null int64\n",
      "date                9673 non-null object\n",
      "unnamed             6636 non-null object\n",
      "conference          10085 non-null object\n",
      "conference_short    10085 non-null object\n",
      "reference1          15 non-null object\n",
      "reference2          10085 non-null object\n",
      "reference3          10085 non-null int64\n",
      "dtypes: int64(2), object(9)\n",
      "memory usage: 866.8+ KB\n"
     ]
    }
   ],
   "source": [
    "# just to see the non null objects.\n",
    "icse = pd.read_csv(\"icse_id.txt\", delimiter='\\t')\n",
    "icse.columns = ['id','title','title_small','year','date','unnamed','conference','conference_short','reference1','reference2','reference3']\n",
    "icse.info()"
   ]
  },
  {
   "cell_type": "code",
   "execution_count": 42,
   "metadata": {},
   "outputs": [
    {
     "name": "stdout",
     "output_type": "stream",
     "text": [
      "<class 'pandas.core.frame.DataFrame'>\n",
      "RangeIndex: 4195 entries, 0 to 4194\n",
      "Data columns (total 11 columns):\n",
      "id                  4195 non-null object\n",
      "title               4195 non-null object\n",
      "title_small         4195 non-null object\n",
      "year                4195 non-null int64\n",
      "date                3811 non-null object\n",
      "unnamed             2408 non-null object\n",
      "conference          4195 non-null object\n",
      "conference_short    4195 non-null object\n",
      "reference1          1420 non-null object\n",
      "reference2          4195 non-null object\n",
      "reference3          4195 non-null int64\n",
      "dtypes: int64(2), object(9)\n",
      "memory usage: 360.6+ KB\n"
     ]
    }
   ],
   "source": [
    "sigmod = pd.read_csv(\"sigmod_id.txt\", delimiter='\\t')\n",
    "sigmod.columns = ['id','title','title_small','year','date','unnamed','conference','conference_short','reference1','reference2','reference3']\n",
    "sigmod.info()"
   ]
  },
  {
   "cell_type": "code",
   "execution_count": 43,
   "metadata": {},
   "outputs": [
    {
     "name": "stdout",
     "output_type": "stream",
     "text": [
      "<class 'pandas.core.frame.DataFrame'>\n",
      "RangeIndex: 4323 entries, 0 to 4322\n",
      "Data columns (total 11 columns):\n",
      "id                  4323 non-null object\n",
      "title               4323 non-null object\n",
      "title_small         4323 non-null object\n",
      "year                4323 non-null int64\n",
      "date                3969 non-null object\n",
      "unnamed             1224 non-null object\n",
      "conference          4323 non-null object\n",
      "conference_short    4323 non-null object\n",
      "reference1          4007 non-null object\n",
      "reference2          4323 non-null object\n",
      "reference3          4323 non-null int64\n",
      "dtypes: int64(2), object(9)\n",
      "memory usage: 371.6+ KB\n"
     ]
    }
   ],
   "source": [
    "vldb = pd.read_csv(\"vldb_id.txt\", delimiter='\\t')\n",
    "vldb.columns = ['id','title','title_small','year','date','unnamed','conference','conference_short','reference1','reference2','reference3']\n",
    "vldb.info()"
   ]
  },
  {
   "cell_type": "code",
   "execution_count": 51,
   "metadata": {},
   "outputs": [],
   "source": [
    "allFiles = glob.glob(\"./*.txt\")\n",
    "frame = pd.DataFrame()\n",
    "list_ = []\n",
    "for file_ in allFiles:\n",
    "    df = pd.read_csv(file_,delimiter='\\t')\n",
    "    df.columns = ['id','title','title_small','year','date','unnamed','conference','conference_short','reference1','reference2','reference3']\n",
    "    list_.append(df)\n",
    "frame = pd.concat(list_)"
   ]
  },
  {
   "cell_type": "code",
   "execution_count": 52,
   "metadata": {},
   "outputs": [
    {
     "name": "stdout",
     "output_type": "stream",
     "text": [
      "18603\n"
     ]
    }
   ],
   "source": [
    "print((frame))"
   ]
  },
  {
   "cell_type": "code",
   "execution_count": 40,
   "metadata": {},
   "outputs": [],
   "source": [
    "tfidf__max_df: (0.25, 0.50, 0.75)\n",
    "tfidf__ngram_range: ((1, 1), (1, 2), (1, 3))"
   ]
  },
  {
   "cell_type": "code",
   "execution_count": 41,
   "metadata": {},
   "outputs": [
    {
     "ename": "NameError",
     "evalue": "name 'data_df' is not defined",
     "output_type": "error",
     "traceback": [
      "\u001b[0;31m---------------------------------------------------------------------------\u001b[0m",
      "\u001b[0;31mNameError\u001b[0m                                 Traceback (most recent call last)",
      "\u001b[0;32m<ipython-input-41-ef565f35b44a>\u001b[0m in \u001b[0;36m<module>\u001b[0;34m()\u001b[0m\n\u001b[0;32m----> 1\u001b[0;31m \u001b[0mdata_x\u001b[0m \u001b[0;34m=\u001b[0m \u001b[0mdata_df\u001b[0m\u001b[0;34m[\u001b[0m\u001b[0;34m[\u001b[0m\u001b[0;34m'title'\u001b[0m\u001b[0;34m]\u001b[0m\u001b[0;34m]\u001b[0m\u001b[0;34m.\u001b[0m\u001b[0mas_matrix\u001b[0m\u001b[0;34m(\u001b[0m\u001b[0;34m)\u001b[0m\u001b[0;34m\u001b[0m\u001b[0m\n\u001b[0m",
      "\u001b[0;31mNameError\u001b[0m: name 'data_df' is not defined"
     ]
    }
   ],
   "source": [
    "data_x = data_df[['title']].as_matrix()"
   ]
  }
 ],
 "metadata": {
  "kernelspec": {
   "display_name": "Python (uwindsor)",
   "language": "python",
   "name": "uwindsor"
  },
  "language_info": {
   "codemirror_mode": {
    "name": "ipython",
    "version": 3
   },
   "file_extension": ".py",
   "mimetype": "text/x-python",
   "name": "python",
   "nbconvert_exporter": "python",
   "pygments_lexer": "ipython3",
   "version": "3.6.6"
  }
 },
 "nbformat": 4,
 "nbformat_minor": 2
}
